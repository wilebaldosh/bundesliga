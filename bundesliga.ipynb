{
 "cells": [
  {
   "source": [
    "Este es un ejercicio divertido que en **Python**, que con la ayuda de **Pandas**, se puede resolver sin problemas.\n",
    "Se trata de obtener datos interesantes del dataset de las Bundesliga (la Liga Alemana de Fútbol)."
   ],
   "cell_type": "markdown",
   "metadata": {}
  },
  {
   "cell_type": "code",
   "execution_count": 1,
   "id": "reverse-reverse",
   "metadata": {},
   "outputs": [],
   "source": [
    "# Importamos pandas para el análisis.\n",
    "import pandas as pd\n",
    "import numpy as np\n",
    "# #from  itertools import combinations"
   ]
  },
  {
   "cell_type": "code",
   "execution_count": 2,
   "id": "valuable-acoustic",
   "metadata": {},
   "outputs": [],
   "source": [
    "# Cargamos el dataset desde un archivo csv.\n",
    "df = pd.read_csv(\"data/raw/Bundesliga.csv\")"
   ]
  },
  {
   "cell_type": "code",
   "execution_count": 3,
   "id": "commercial-script",
   "metadata": {},
   "outputs": [
    {
     "output_type": "stream",
     "name": "stdout",
     "text": [
      "df.head:\n"
     ]
    },
    {
     "output_type": "execute_result",
     "data": {
      "text/plain": [
       "   Unnamed: 0             HomeTeam              AwayTeam  HomeGoals  \\\n",
       "0           1        Werder Bremen     Borussia Dortmund          3   \n",
       "1           2    Hertha BSC Berlin       1. FC Nuernberg          1   \n",
       "2           3    Preussen Muenster          Hamburger SV          1   \n",
       "3           4  Eintracht Frankfurt  1. FC Kaiserslautern          1   \n",
       "4           5        Karlsruher SC        Meidericher SV          1   \n",
       "\n",
       "   AwayGoals  Round  Year                 Date  \n",
       "0          2      1  1963  1963-08-24 09:30:00  \n",
       "1          1      1  1963  1963-08-24 09:30:00  \n",
       "2          1      1  1963  1963-08-24 09:30:00  \n",
       "3          1      1  1963  1963-08-24 09:30:00  \n",
       "4          4      1  1963  1963-08-24 09:30:00  "
      ],
      "text/html": "<div>\n<style scoped>\n    .dataframe tbody tr th:only-of-type {\n        vertical-align: middle;\n    }\n\n    .dataframe tbody tr th {\n        vertical-align: top;\n    }\n\n    .dataframe thead th {\n        text-align: right;\n    }\n</style>\n<table border=\"1\" class=\"dataframe\">\n  <thead>\n    <tr style=\"text-align: right;\">\n      <th></th>\n      <th>Unnamed: 0</th>\n      <th>HomeTeam</th>\n      <th>AwayTeam</th>\n      <th>HomeGoals</th>\n      <th>AwayGoals</th>\n      <th>Round</th>\n      <th>Year</th>\n      <th>Date</th>\n    </tr>\n  </thead>\n  <tbody>\n    <tr>\n      <th>0</th>\n      <td>1</td>\n      <td>Werder Bremen</td>\n      <td>Borussia Dortmund</td>\n      <td>3</td>\n      <td>2</td>\n      <td>1</td>\n      <td>1963</td>\n      <td>1963-08-24 09:30:00</td>\n    </tr>\n    <tr>\n      <th>1</th>\n      <td>2</td>\n      <td>Hertha BSC Berlin</td>\n      <td>1. FC Nuernberg</td>\n      <td>1</td>\n      <td>1</td>\n      <td>1</td>\n      <td>1963</td>\n      <td>1963-08-24 09:30:00</td>\n    </tr>\n    <tr>\n      <th>2</th>\n      <td>3</td>\n      <td>Preussen Muenster</td>\n      <td>Hamburger SV</td>\n      <td>1</td>\n      <td>1</td>\n      <td>1</td>\n      <td>1963</td>\n      <td>1963-08-24 09:30:00</td>\n    </tr>\n    <tr>\n      <th>3</th>\n      <td>4</td>\n      <td>Eintracht Frankfurt</td>\n      <td>1. FC Kaiserslautern</td>\n      <td>1</td>\n      <td>1</td>\n      <td>1</td>\n      <td>1963</td>\n      <td>1963-08-24 09:30:00</td>\n    </tr>\n    <tr>\n      <th>4</th>\n      <td>5</td>\n      <td>Karlsruher SC</td>\n      <td>Meidericher SV</td>\n      <td>1</td>\n      <td>4</td>\n      <td>1</td>\n      <td>1963</td>\n      <td>1963-08-24 09:30:00</td>\n    </tr>\n  </tbody>\n</table>\n</div>"
     },
     "metadata": {},
     "execution_count": 3
    }
   ],
   "source": [
    "# Imprimimos el head del dataset (los primeros 5 registros)\n",
    "print(\"df.head:\")\n",
    "df.head()"
   ]
  },
  {
   "cell_type": "code",
   "execution_count": 4,
   "id": "acceptable-centre",
   "metadata": {},
   "outputs": [
    {
     "output_type": "stream",
     "name": "stdout",
     "text": [
      "df.dtypes:\n"
     ]
    },
    {
     "output_type": "execute_result",
     "data": {
      "text/plain": [
       "Unnamed: 0     int64\n",
       "HomeTeam      object\n",
       "AwayTeam      object\n",
       "HomeGoals      int64\n",
       "AwayGoals      int64\n",
       "Round          int64\n",
       "Year           int64\n",
       "Date          object\n",
       "dtype: object"
      ]
     },
     "metadata": {},
     "execution_count": 4
    }
   ],
   "source": [
    "# Revisamos los tipos de datos de cada columna que compone el dataset\n",
    "print(\"df.dtypes:\")\n",
    "df.dtypes"
   ]
  },
  {
   "cell_type": "code",
   "execution_count": 5,
   "id": "grand-apparel",
   "metadata": {},
   "outputs": [
    {
     "output_type": "stream",
     "name": "stdout",
     "text": [
      "df.info:\n"
     ]
    },
    {
     "output_type": "execute_result",
     "data": {
      "text/plain": [
       "<bound method DataFrame.info of        Unnamed: 0                   HomeTeam              AwayTeam  HomeGoals  \\\n",
       "0               1              Werder Bremen     Borussia Dortmund          3   \n",
       "1               2          Hertha BSC Berlin       1. FC Nuernberg          1   \n",
       "2               3          Preussen Muenster          Hamburger SV          1   \n",
       "3               4        Eintracht Frankfurt  1. FC Kaiserslautern          1   \n",
       "4               5              Karlsruher SC        Meidericher SV          1   \n",
       "...           ...                        ...                   ...        ...   \n",
       "14013       14014          Arminia Bielefeld           Hannover 96          2   \n",
       "14014       14015              Karlsruher SC     Hertha BSC Berlin          4   \n",
       "14015       14016                1. FC Koeln            VfL Bochum          1   \n",
       "14016       14017  Borussia Moenchengladbach     Borussia Dortmund          1   \n",
       "14017       14018                 Schalke 04       1899 Hoffenheim          2   \n",
       "\n",
       "       AwayGoals  Round  Year                 Date  \n",
       "0              2      1  1963  1963-08-24 09:30:00  \n",
       "1              1      1  1963  1963-08-24 09:30:00  \n",
       "2              1      1  1963  1963-08-24 09:30:00  \n",
       "3              1      1  1963  1963-08-24 09:30:00  \n",
       "4              4      1  1963  1963-08-24 09:30:00  \n",
       "...          ...    ...   ...                  ...  \n",
       "14013          2     34  2008  2009-05-23 08:30:00  \n",
       "14014          0     34  2008  2009-05-23 08:30:00  \n",
       "14015          1     34  2008  2009-05-23 08:30:00  \n",
       "14016          1     34  2008  2009-05-23 08:30:00  \n",
       "14017          3     34  2008  2009-05-23 08:30:00  \n",
       "\n",
       "[14018 rows x 8 columns]>"
      ]
     },
     "metadata": {},
     "execution_count": 5
    }
   ],
   "source": [
    "# Mostramos un resumen de los datos\n",
    "print(\"df.info:\")\n",
    "df.info"
   ]
  },
  {
   "cell_type": "code",
   "execution_count": 6,
   "id": "atlantic-productivity",
   "metadata": {},
   "outputs": [
    {
     "output_type": "stream",
     "name": "stdout",
     "text": [
      "df.coluns:\n"
     ]
    },
    {
     "output_type": "execute_result",
     "data": {
      "text/plain": [
       "Index(['Unnamed: 0', 'HomeTeam', 'AwayTeam', 'HomeGoals', 'AwayGoals', 'Round',\n",
       "       'Year', 'Date'],\n",
       "      dtype='object')"
      ]
     },
     "metadata": {},
     "execution_count": 6
    }
   ],
   "source": [
    "# Mostramos el nombre de las columnas\n",
    "print(\"df.coluns:\")\n",
    "df.columns"
   ]
  },
  {
   "cell_type": "code",
   "execution_count": 7,
   "id": "promotional-tooth",
   "metadata": {},
   "outputs": [],
   "source": [
    "# Se puede observar que la primer columna tiene un nombre atípico 'Unnamed: 0',\n",
    "# por lo que vamos a cambiar el nombre de las columnas.\n",
    "# Para ello, existen dos maneras diferentes de establecer los nombres de las columnas\n",
    "# 1. Para todas las columnas\n",
    "schema = ['index', 'homeTeam', 'awayTeam', 'homeGoals', 'awayGoals', 'round', 'year', 'date']\n",
    "df.columns = schema\n",
    "\n",
    "# 2. Sólo para las columnas seleccionadas\n",
    "# df.rename(columns = {'Unnamed: 0': 'Index'}, inplace = True)"
   ]
  },
  {
   "cell_type": "code",
   "execution_count": 8,
   "metadata": {},
   "outputs": [
    {
     "output_type": "stream",
     "name": "stdout",
     "text": [
      "df.coluns:\n"
     ]
    },
    {
     "output_type": "execute_result",
     "data": {
      "text/plain": [
       "Index(['index', 'homeTeam', 'awayTeam', 'homeGoals', 'awayGoals', 'round',\n",
       "       'year', 'date'],\n",
       "      dtype='object')"
      ]
     },
     "metadata": {},
     "execution_count": 8
    }
   ],
   "source": [
    "# Mostramos, nuevaente, el nombre de las columnas, el cual no será igual que en\n",
    "# la instrucción anterior, ya que hemos modificado el nombre de todas las columnas.\n",
    "print(\"df.coluns:\")\n",
    "df.columns"
   ]
  },
  {
   "cell_type": "code",
   "execution_count": 9,
   "id": "surrounded-sheep",
   "metadata": {},
   "outputs": [
    {
     "output_type": "execute_result",
     "data": {
      "text/plain": [
       "0        1963-30-08/24/63 09:30:00\n",
       "1        1963-30-08/24/63 09:30:00\n",
       "2        1963-30-08/24/63 09:30:00\n",
       "3        1963-30-08/24/63 09:30:00\n",
       "4        1963-30-08/24/63 09:30:00\n",
       "                   ...            \n",
       "14013    2009-30-05/23/09 08:30:00\n",
       "14014    2009-30-05/23/09 08:30:00\n",
       "14015    2009-30-05/23/09 08:30:00\n",
       "14016    2009-30-05/23/09 08:30:00\n",
       "14017    2009-30-05/23/09 08:30:00\n",
       "Name: date, Length: 14018, dtype: object"
      ]
     },
     "metadata": {},
     "execution_count": 9
    }
   ],
   "source": [
    "# Aplicamos un formato personalizado de fecha a la columna 'date'\n",
    "pd.to_datetime(df.date).dt.strftime(\"%Y-%M-%D %H:%M:%S\")\n",
    "\n",
    "# Mostramos los primeros cinco registros del dataset\n",
    "#df.head()"
   ]
  },
  {
   "cell_type": "code",
   "execution_count": 10,
   "id": "thermal-marriage",
   "metadata": {},
   "outputs": [
    {
     "output_type": "stream",
     "name": "stdout",
     "text": [
      "Count:\n"
     ]
    },
    {
     "output_type": "execute_result",
     "data": {
      "text/plain": [
       "index        14018\n",
       "homeTeam     14018\n",
       "awayTeam     14018\n",
       "homeGoals    14018\n",
       "awayGoals    14018\n",
       "round        14018\n",
       "year         14018\n",
       "date         14016\n",
       "dtype: int64"
      ]
     },
     "metadata": {},
     "execution_count": 10
    }
   ],
   "source": [
    "# Contamos los valores que no son NA de cada columna y fila.\n",
    "# Para este caso en específico, no existe un solo NA, por lo que nos regresará\n",
    "# el número total de registros\n",
    "print(\"Count:\")\n",
    "df.count()"
   ]
  },
  {
   "source": [
    "Si son observadores, se darán cuenta que no todas las columnas tienen el mismo número de observaciones/datos (14018). Esto es porque en la variable **'date'**, existen dos registros que no cumplen los requisitos, porque son NA. ¿Cómo podemos saber qué registros tienen datos faltantes"
   ],
   "cell_type": "markdown",
   "metadata": {}
  },
  {
   "cell_type": "code",
   "execution_count": 11,
   "metadata": {},
   "outputs": [
    {
     "output_type": "execute_result",
     "data": {
      "text/plain": [
       "       index         homeTeam          awayTeam  homeGoals  awayGoals  round  \\\n",
       "10803  10804    Hansa Rostock        VfL Bochum          3          0     17   \n",
       "10804  10805  Bayern Muenchen  Bayer Leverkusen          2          0     17   \n",
       "\n",
       "       year date  \n",
       "10803  1998  NaN  \n",
       "10804  1998  NaN  "
      ],
      "text/html": "<div>\n<style scoped>\n    .dataframe tbody tr th:only-of-type {\n        vertical-align: middle;\n    }\n\n    .dataframe tbody tr th {\n        vertical-align: top;\n    }\n\n    .dataframe thead th {\n        text-align: right;\n    }\n</style>\n<table border=\"1\" class=\"dataframe\">\n  <thead>\n    <tr style=\"text-align: right;\">\n      <th></th>\n      <th>index</th>\n      <th>homeTeam</th>\n      <th>awayTeam</th>\n      <th>homeGoals</th>\n      <th>awayGoals</th>\n      <th>round</th>\n      <th>year</th>\n      <th>date</th>\n    </tr>\n  </thead>\n  <tbody>\n    <tr>\n      <th>10803</th>\n      <td>10804</td>\n      <td>Hansa Rostock</td>\n      <td>VfL Bochum</td>\n      <td>3</td>\n      <td>0</td>\n      <td>17</td>\n      <td>1998</td>\n      <td>NaN</td>\n    </tr>\n    <tr>\n      <th>10804</th>\n      <td>10805</td>\n      <td>Bayern Muenchen</td>\n      <td>Bayer Leverkusen</td>\n      <td>2</td>\n      <td>0</td>\n      <td>17</td>\n      <td>1998</td>\n      <td>NaN</td>\n    </tr>\n  </tbody>\n</table>\n</div>"
     },
     "metadata": {},
     "execution_count": 11
    }
   ],
   "source": [
    "# Utilizaremos la función isna()\n",
    "# Nos regresa las filas, en este caso dos, que contienen valores NA\n",
    "df.loc[df.date.isna()]"
   ]
  },
  {
   "cell_type": "code",
   "execution_count": 12,
   "id": "potential-phenomenon",
   "metadata": {},
   "outputs": [
    {
     "output_type": "execute_result",
     "data": {
      "text/plain": [
       "       index           homeTeam              awayTeam  homeGoals  awayGoals  \\\n",
       "9127    9128    Bayern Muenchen           SC Freiburg          3          1   \n",
       "9134    9135        SC Freiburg       Wattenscheid 09          4          1   \n",
       "9146    9147  Borussia Dortmund           SC Freiburg          3          2   \n",
       "9149    9150        SC Freiburg          Hamburger SV          0          1   \n",
       "9163    9164        1. FC Koeln           SC Freiburg          2          0   \n",
       "...      ...                ...                   ...        ...        ...   \n",
       "12750  12751  Arminia Bielefeld           SC Freiburg          3          1   \n",
       "12760  12761        SC Freiburg     Borussia Dortmund          2          2   \n",
       "12767  12768        SC Freiburg  1. FC Kaiserslautern          1          2   \n",
       "12777  12778      Werder Bremen           SC Freiburg          4          1   \n",
       "12792  12793        SC Freiburg            Schalke 04          2          3   \n",
       "\n",
       "       round  year                 date  \n",
       "9127       1  1993  1993-08-07 08:30:00  \n",
       "9134       2  1993  1993-08-14 08:30:00  \n",
       "9146       3  1993  1993-08-21 08:30:00  \n",
       "9149       4  1993  1993-08-27 12:30:00  \n",
       "9163       5  1993  1993-09-01 12:30:00  \n",
       "...      ...   ...                  ...  \n",
       "12750     30  2004  2005-04-23 08:30:00  \n",
       "12760     31  2004  2005-04-30 08:30:00  \n",
       "12767     32  2004  2005-05-07 08:30:00  \n",
       "12777     33  2004  2005-05-14 08:30:00  \n",
       "12792     34  2004  2005-05-21 08:30:00  \n",
       "\n",
       "[340 rows x 8 columns]"
      ],
      "text/html": "<div>\n<style scoped>\n    .dataframe tbody tr th:only-of-type {\n        vertical-align: middle;\n    }\n\n    .dataframe tbody tr th {\n        vertical-align: top;\n    }\n\n    .dataframe thead th {\n        text-align: right;\n    }\n</style>\n<table border=\"1\" class=\"dataframe\">\n  <thead>\n    <tr style=\"text-align: right;\">\n      <th></th>\n      <th>index</th>\n      <th>homeTeam</th>\n      <th>awayTeam</th>\n      <th>homeGoals</th>\n      <th>awayGoals</th>\n      <th>round</th>\n      <th>year</th>\n      <th>date</th>\n    </tr>\n  </thead>\n  <tbody>\n    <tr>\n      <th>9127</th>\n      <td>9128</td>\n      <td>Bayern Muenchen</td>\n      <td>SC Freiburg</td>\n      <td>3</td>\n      <td>1</td>\n      <td>1</td>\n      <td>1993</td>\n      <td>1993-08-07 08:30:00</td>\n    </tr>\n    <tr>\n      <th>9134</th>\n      <td>9135</td>\n      <td>SC Freiburg</td>\n      <td>Wattenscheid 09</td>\n      <td>4</td>\n      <td>1</td>\n      <td>2</td>\n      <td>1993</td>\n      <td>1993-08-14 08:30:00</td>\n    </tr>\n    <tr>\n      <th>9146</th>\n      <td>9147</td>\n      <td>Borussia Dortmund</td>\n      <td>SC Freiburg</td>\n      <td>3</td>\n      <td>2</td>\n      <td>3</td>\n      <td>1993</td>\n      <td>1993-08-21 08:30:00</td>\n    </tr>\n    <tr>\n      <th>9149</th>\n      <td>9150</td>\n      <td>SC Freiburg</td>\n      <td>Hamburger SV</td>\n      <td>0</td>\n      <td>1</td>\n      <td>4</td>\n      <td>1993</td>\n      <td>1993-08-27 12:30:00</td>\n    </tr>\n    <tr>\n      <th>9163</th>\n      <td>9164</td>\n      <td>1. FC Koeln</td>\n      <td>SC Freiburg</td>\n      <td>2</td>\n      <td>0</td>\n      <td>5</td>\n      <td>1993</td>\n      <td>1993-09-01 12:30:00</td>\n    </tr>\n    <tr>\n      <th>...</th>\n      <td>...</td>\n      <td>...</td>\n      <td>...</td>\n      <td>...</td>\n      <td>...</td>\n      <td>...</td>\n      <td>...</td>\n      <td>...</td>\n    </tr>\n    <tr>\n      <th>12750</th>\n      <td>12751</td>\n      <td>Arminia Bielefeld</td>\n      <td>SC Freiburg</td>\n      <td>3</td>\n      <td>1</td>\n      <td>30</td>\n      <td>2004</td>\n      <td>2005-04-23 08:30:00</td>\n    </tr>\n    <tr>\n      <th>12760</th>\n      <td>12761</td>\n      <td>SC Freiburg</td>\n      <td>Borussia Dortmund</td>\n      <td>2</td>\n      <td>2</td>\n      <td>31</td>\n      <td>2004</td>\n      <td>2005-04-30 08:30:00</td>\n    </tr>\n    <tr>\n      <th>12767</th>\n      <td>12768</td>\n      <td>SC Freiburg</td>\n      <td>1. FC Kaiserslautern</td>\n      <td>1</td>\n      <td>2</td>\n      <td>32</td>\n      <td>2004</td>\n      <td>2005-05-07 08:30:00</td>\n    </tr>\n    <tr>\n      <th>12777</th>\n      <td>12778</td>\n      <td>Werder Bremen</td>\n      <td>SC Freiburg</td>\n      <td>4</td>\n      <td>1</td>\n      <td>33</td>\n      <td>2004</td>\n      <td>2005-05-14 08:30:00</td>\n    </tr>\n    <tr>\n      <th>12792</th>\n      <td>12793</td>\n      <td>SC Freiburg</td>\n      <td>Schalke 04</td>\n      <td>2</td>\n      <td>3</td>\n      <td>34</td>\n      <td>2004</td>\n      <td>2005-05-21 08:30:00</td>\n    </tr>\n  </tbody>\n</table>\n<p>340 rows × 8 columns</p>\n</div>"
     },
     "metadata": {},
     "execution_count": 12
    }
   ],
   "source": [
    "# Ahora vamos a filtrar al equipo 'Freibug', ya sea jugando como local (homeTeam)\n",
    "# o como visitante (awayTeam)\n",
    "df.loc[df['homeTeam'].str.contains('Freiburg') | df['awayTeam'].str.contains('Freiburg')]"
   ]
  },
  {
   "cell_type": "code",
   "execution_count": 13,
   "id": "informative-duplicate",
   "metadata": {},
   "outputs": [
    {
     "output_type": "execute_result",
     "data": {
      "text/plain": [
       "      index                   homeTeam                awayTeam  homeGoals  \\\n",
       "943     944  Borussia Moenchengladbach              Schalke 04         11   \n",
       "1197   1198  Borussia Moenchengladbach    Borussia Neunkirchen         10   \n",
       "2455   2456            Bayern Muenchen       Borussia Dortmund         11   \n",
       "4456   4457  Borussia Moenchengladbach       Borussia Dortmund         12   \n",
       "5787   5788          Borussia Dortmund       Arminia Bielefeld         11   \n",
       "6363   6364  Borussia Moenchengladbach  Eintracht Braunschweig         10   \n",
       "\n",
       "      awayGoals  round  year                 date  \n",
       "943           0     18  1966  1967-01-07 08:30:00  \n",
       "1197          0     12  1967  1967-11-04 08:30:00  \n",
       "2455          1     16  1971  1971-11-27 08:30:00  \n",
       "4456          0     34  1977  1978-04-29 08:30:00  \n",
       "5787          1     12  1982  1982-11-06 08:30:00  \n",
       "6363          0      8  1984  1984-10-11 14:00:00  "
      ],
      "text/html": "<div>\n<style scoped>\n    .dataframe tbody tr th:only-of-type {\n        vertical-align: middle;\n    }\n\n    .dataframe tbody tr th {\n        vertical-align: top;\n    }\n\n    .dataframe thead th {\n        text-align: right;\n    }\n</style>\n<table border=\"1\" class=\"dataframe\">\n  <thead>\n    <tr style=\"text-align: right;\">\n      <th></th>\n      <th>index</th>\n      <th>homeTeam</th>\n      <th>awayTeam</th>\n      <th>homeGoals</th>\n      <th>awayGoals</th>\n      <th>round</th>\n      <th>year</th>\n      <th>date</th>\n    </tr>\n  </thead>\n  <tbody>\n    <tr>\n      <th>943</th>\n      <td>944</td>\n      <td>Borussia Moenchengladbach</td>\n      <td>Schalke 04</td>\n      <td>11</td>\n      <td>0</td>\n      <td>18</td>\n      <td>1966</td>\n      <td>1967-01-07 08:30:00</td>\n    </tr>\n    <tr>\n      <th>1197</th>\n      <td>1198</td>\n      <td>Borussia Moenchengladbach</td>\n      <td>Borussia Neunkirchen</td>\n      <td>10</td>\n      <td>0</td>\n      <td>12</td>\n      <td>1967</td>\n      <td>1967-11-04 08:30:00</td>\n    </tr>\n    <tr>\n      <th>2455</th>\n      <td>2456</td>\n      <td>Bayern Muenchen</td>\n      <td>Borussia Dortmund</td>\n      <td>11</td>\n      <td>1</td>\n      <td>16</td>\n      <td>1971</td>\n      <td>1971-11-27 08:30:00</td>\n    </tr>\n    <tr>\n      <th>4456</th>\n      <td>4457</td>\n      <td>Borussia Moenchengladbach</td>\n      <td>Borussia Dortmund</td>\n      <td>12</td>\n      <td>0</td>\n      <td>34</td>\n      <td>1977</td>\n      <td>1978-04-29 08:30:00</td>\n    </tr>\n    <tr>\n      <th>5787</th>\n      <td>5788</td>\n      <td>Borussia Dortmund</td>\n      <td>Arminia Bielefeld</td>\n      <td>11</td>\n      <td>1</td>\n      <td>12</td>\n      <td>1982</td>\n      <td>1982-11-06 08:30:00</td>\n    </tr>\n    <tr>\n      <th>6363</th>\n      <td>6364</td>\n      <td>Borussia Moenchengladbach</td>\n      <td>Eintracht Braunschweig</td>\n      <td>10</td>\n      <td>0</td>\n      <td>8</td>\n      <td>1984</td>\n      <td>1984-10-11 14:00:00</td>\n    </tr>\n  </tbody>\n</table>\n</div>"
     },
     "metadata": {},
     "execution_count": 13
    }
   ],
   "source": [
    "# ¿Qué equipos ha metido 10 goles o más, siendo local, y a quién se los metió?\n",
    "df.loc[df['homeGoals'] >= 10]"
   ]
  },
  {
   "cell_type": "code",
   "execution_count": 39,
   "metadata": {},
   "outputs": [
    {
     "output_type": "execute_result",
     "data": {
      "text/plain": [
       "      index                   homeTeam                awayTeam  homeGoals  \\\n",
       "4456   4457  Borussia Moenchengladbach       Borussia Dortmund         12   \n",
       "2455   2456            Bayern Muenchen       Borussia Dortmund         11   \n",
       "5787   5788          Borussia Dortmund       Arminia Bielefeld         11   \n",
       "943     944  Borussia Moenchengladbach              Schalke 04         11   \n",
       "6363   6364  Borussia Moenchengladbach  Eintracht Braunschweig         10   \n",
       "1197   1198  Borussia Moenchengladbach    Borussia Neunkirchen         10   \n",
       "3295   3296        Eintracht Frankfurt         Rot-Weiss Essen          9   \n",
       "383     384          TSV 1860 Muenchen           Karlsruher SC          9   \n",
       "80       81          Borussia Dortmund    1. FC Kaiserslautern          9   \n",
       "6176   6177            Bayern Muenchen       Kickers Offenbach          9   \n",
       "3883   3884            Bayern Muenchen  Tennis Borussia Berlin          9   \n",
       "182     183          TSV 1860 Muenchen            Hamburger SV          9   \n",
       "1988   1989          Hertha BSC Berlin       Borussia Dortmund          9   \n",
       "5499   5500        Eintracht Frankfurt           Werder Bremen          9   \n",
       "1806   1807                1. FC Koeln              Schalke 04          8   \n",
       "\n",
       "      awayGoals  round  year                 date  \n",
       "4456          0     34  1977  1978-04-29 08:30:00  \n",
       "2455          1     16  1971  1971-11-27 08:30:00  \n",
       "5787          1     12  1982  1982-11-06 08:30:00  \n",
       "943           0     18  1966  1967-01-07 08:30:00  \n",
       "6363          0      8  1984  1984-10-11 14:00:00  \n",
       "1197          0     12  1967  1967-11-04 08:30:00  \n",
       "3295          1      7  1974  1974-10-05 09:30:00  \n",
       "383           0     18  1964  1965-02-27 08:30:00  \n",
       "80            3     11  1963  1963-11-16 08:30:00  \n",
       "6176          0     21  1983  1984-03-13 13:00:00  \n",
       "3883          0      5  1976  1976-09-10 13:30:00  \n",
       "182           2     23  1963  1964-03-07 08:30:00  \n",
       "1988          1     32  1969  1970-04-18 08:30:00  \n",
       "5499          2     14  1981  1981-11-14 08:30:00  \n",
       "1806          0     12  1969  1969-11-08 08:30:00  "
      ],
      "text/html": "<div>\n<style scoped>\n    .dataframe tbody tr th:only-of-type {\n        vertical-align: middle;\n    }\n\n    .dataframe tbody tr th {\n        vertical-align: top;\n    }\n\n    .dataframe thead th {\n        text-align: right;\n    }\n</style>\n<table border=\"1\" class=\"dataframe\">\n  <thead>\n    <tr style=\"text-align: right;\">\n      <th></th>\n      <th>index</th>\n      <th>homeTeam</th>\n      <th>awayTeam</th>\n      <th>homeGoals</th>\n      <th>awayGoals</th>\n      <th>round</th>\n      <th>year</th>\n      <th>date</th>\n    </tr>\n  </thead>\n  <tbody>\n    <tr>\n      <th>4456</th>\n      <td>4457</td>\n      <td>Borussia Moenchengladbach</td>\n      <td>Borussia Dortmund</td>\n      <td>12</td>\n      <td>0</td>\n      <td>34</td>\n      <td>1977</td>\n      <td>1978-04-29 08:30:00</td>\n    </tr>\n    <tr>\n      <th>2455</th>\n      <td>2456</td>\n      <td>Bayern Muenchen</td>\n      <td>Borussia Dortmund</td>\n      <td>11</td>\n      <td>1</td>\n      <td>16</td>\n      <td>1971</td>\n      <td>1971-11-27 08:30:00</td>\n    </tr>\n    <tr>\n      <th>5787</th>\n      <td>5788</td>\n      <td>Borussia Dortmund</td>\n      <td>Arminia Bielefeld</td>\n      <td>11</td>\n      <td>1</td>\n      <td>12</td>\n      <td>1982</td>\n      <td>1982-11-06 08:30:00</td>\n    </tr>\n    <tr>\n      <th>943</th>\n      <td>944</td>\n      <td>Borussia Moenchengladbach</td>\n      <td>Schalke 04</td>\n      <td>11</td>\n      <td>0</td>\n      <td>18</td>\n      <td>1966</td>\n      <td>1967-01-07 08:30:00</td>\n    </tr>\n    <tr>\n      <th>6363</th>\n      <td>6364</td>\n      <td>Borussia Moenchengladbach</td>\n      <td>Eintracht Braunschweig</td>\n      <td>10</td>\n      <td>0</td>\n      <td>8</td>\n      <td>1984</td>\n      <td>1984-10-11 14:00:00</td>\n    </tr>\n    <tr>\n      <th>1197</th>\n      <td>1198</td>\n      <td>Borussia Moenchengladbach</td>\n      <td>Borussia Neunkirchen</td>\n      <td>10</td>\n      <td>0</td>\n      <td>12</td>\n      <td>1967</td>\n      <td>1967-11-04 08:30:00</td>\n    </tr>\n    <tr>\n      <th>3295</th>\n      <td>3296</td>\n      <td>Eintracht Frankfurt</td>\n      <td>Rot-Weiss Essen</td>\n      <td>9</td>\n      <td>1</td>\n      <td>7</td>\n      <td>1974</td>\n      <td>1974-10-05 09:30:00</td>\n    </tr>\n    <tr>\n      <th>383</th>\n      <td>384</td>\n      <td>TSV 1860 Muenchen</td>\n      <td>Karlsruher SC</td>\n      <td>9</td>\n      <td>0</td>\n      <td>18</td>\n      <td>1964</td>\n      <td>1965-02-27 08:30:00</td>\n    </tr>\n    <tr>\n      <th>80</th>\n      <td>81</td>\n      <td>Borussia Dortmund</td>\n      <td>1. FC Kaiserslautern</td>\n      <td>9</td>\n      <td>3</td>\n      <td>11</td>\n      <td>1963</td>\n      <td>1963-11-16 08:30:00</td>\n    </tr>\n    <tr>\n      <th>6176</th>\n      <td>6177</td>\n      <td>Bayern Muenchen</td>\n      <td>Kickers Offenbach</td>\n      <td>9</td>\n      <td>0</td>\n      <td>21</td>\n      <td>1983</td>\n      <td>1984-03-13 13:00:00</td>\n    </tr>\n    <tr>\n      <th>3883</th>\n      <td>3884</td>\n      <td>Bayern Muenchen</td>\n      <td>Tennis Borussia Berlin</td>\n      <td>9</td>\n      <td>0</td>\n      <td>5</td>\n      <td>1976</td>\n      <td>1976-09-10 13:30:00</td>\n    </tr>\n    <tr>\n      <th>182</th>\n      <td>183</td>\n      <td>TSV 1860 Muenchen</td>\n      <td>Hamburger SV</td>\n      <td>9</td>\n      <td>2</td>\n      <td>23</td>\n      <td>1963</td>\n      <td>1964-03-07 08:30:00</td>\n    </tr>\n    <tr>\n      <th>1988</th>\n      <td>1989</td>\n      <td>Hertha BSC Berlin</td>\n      <td>Borussia Dortmund</td>\n      <td>9</td>\n      <td>1</td>\n      <td>32</td>\n      <td>1969</td>\n      <td>1970-04-18 08:30:00</td>\n    </tr>\n    <tr>\n      <th>5499</th>\n      <td>5500</td>\n      <td>Eintracht Frankfurt</td>\n      <td>Werder Bremen</td>\n      <td>9</td>\n      <td>2</td>\n      <td>14</td>\n      <td>1981</td>\n      <td>1981-11-14 08:30:00</td>\n    </tr>\n    <tr>\n      <th>1806</th>\n      <td>1807</td>\n      <td>1. FC Koeln</td>\n      <td>Schalke 04</td>\n      <td>8</td>\n      <td>0</td>\n      <td>12</td>\n      <td>1969</td>\n      <td>1969-11-08 08:30:00</td>\n    </tr>\n  </tbody>\n</table>\n</div>"
     },
     "metadata": {},
     "execution_count": 39
    }
   ],
   "source": [
    "df.sort_values(by='homeGoals', ascending=False).head(15)"
   ]
  },
  {
   "cell_type": "code",
   "execution_count": 14,
   "id": "square-orientation",
   "metadata": {},
   "outputs": [
    {
     "output_type": "stream",
     "name": "stdout",
     "text": [
      "Min year:\n"
     ]
    },
    {
     "output_type": "execute_result",
     "data": {
      "text/plain": [
       "1963"
      ]
     },
     "metadata": {},
     "execution_count": 14
    }
   ],
   "source": [
    "# ¿Cuál fue el primer año del que se tiene registro en el torneo dentro de nuestro dataset?\n",
    "print(\"Min year:\")\n",
    "df['year'].min()"
   ]
  },
  {
   "cell_type": "code",
   "execution_count": 15,
   "id": "exotic-montgomery",
   "metadata": {},
   "outputs": [
    {
     "output_type": "stream",
     "name": "stdout",
     "text": [
      "Max date:\n"
     ]
    },
    {
     "output_type": "execute_result",
     "data": {
      "text/plain": [
       "2008"
      ]
     },
     "metadata": {},
     "execution_count": 15
    }
   ],
   "source": [
    "# ¿Cuál fue el último año del que se tiene registro en el torneo dentro de nuestro dataset?\n",
    "print(\"Max date:\")\n",
    "df['year'].max()"
   ]
  },
  {
   "cell_type": "code",
   "execution_count": 16,
   "id": "embedded-equivalent",
   "metadata": {},
   "outputs": [
    {
     "output_type": "execute_result",
     "data": {
      "text/plain": [
       "1.8981309744614068"
      ]
     },
     "metadata": {},
     "execution_count": 16
    }
   ],
   "source": [
    "# ¿Cuál es el promedio de goles como local?\n",
    "df['homeGoals'].mean()"
   ]
  },
  {
   "cell_type": "code",
   "execution_count": 17,
   "id": "uniform-consideration",
   "metadata": {},
   "outputs": [
    {
     "output_type": "stream",
     "name": "stdout",
     "text": [
      "Average away oals:\n"
     ]
    },
    {
     "output_type": "execute_result",
     "data": {
      "text/plain": [
       "1.1907547439006991"
      ]
     },
     "metadata": {},
     "execution_count": 17
    }
   ],
   "source": [
    "# ¿Cuál es el promedio de goles como visitante?\n",
    "print(\"Average away oals:\")\n",
    "df['awayGoals'].mean()"
   ]
  },
  {
   "cell_type": "code",
   "execution_count": 18,
   "id": "infrared-dryer",
   "metadata": {},
   "outputs": [
    {
     "output_type": "execute_result",
     "data": {
      "text/plain": [
       "      index                   homeTeam           awayTeam  homeGoals  \\\n",
       "4456   4457  Borussia Moenchengladbach  Borussia Dortmund         12   \n",
       "\n",
       "      awayGoals  round  year                 date  \n",
       "4456          0     34  1977  1978-04-29 08:30:00  "
      ],
      "text/html": "<div>\n<style scoped>\n    .dataframe tbody tr th:only-of-type {\n        vertical-align: middle;\n    }\n\n    .dataframe tbody tr th {\n        vertical-align: top;\n    }\n\n    .dataframe thead th {\n        text-align: right;\n    }\n</style>\n<table border=\"1\" class=\"dataframe\">\n  <thead>\n    <tr style=\"text-align: right;\">\n      <th></th>\n      <th>index</th>\n      <th>homeTeam</th>\n      <th>awayTeam</th>\n      <th>homeGoals</th>\n      <th>awayGoals</th>\n      <th>round</th>\n      <th>year</th>\n      <th>date</th>\n    </tr>\n  </thead>\n  <tbody>\n    <tr>\n      <th>4456</th>\n      <td>4457</td>\n      <td>Borussia Moenchengladbach</td>\n      <td>Borussia Dortmund</td>\n      <td>12</td>\n      <td>0</td>\n      <td>34</td>\n      <td>1977</td>\n      <td>1978-04-29 08:30:00</td>\n    </tr>\n  </tbody>\n</table>\n</div>"
     },
     "metadata": {},
     "execution_count": 18
    }
   ],
   "source": [
    "# ¿Cuál fue la máxima diferencia en el marcador?\n",
    "# ¿En qué partido se llevó a cabo?\n",
    "maxDiff = abs(df['homeGoals'].max() - df['awayGoals'].min())\n",
    "df.loc[df['homeGoals'] - df['awayGoals'] == maxDiff]"
   ]
  },
  {
   "cell_type": "code",
   "execution_count": 19,
   "id": "eleven-prairie",
   "metadata": {},
   "outputs": [
    {
     "output_type": "execute_result",
     "data": {
      "text/plain": [
       "       index                   homeTeam                   awayTeam  homeGoals  \\\n",
       "4456    4457  Borussia Moenchengladbach          Borussia Dortmund         12   \n",
       "2455    2456            Bayern Muenchen          Borussia Dortmund         11   \n",
       "5787    5788          Borussia Dortmund          Arminia Bielefeld         11   \n",
       "943      944  Borussia Moenchengladbach                 Schalke 04         11   \n",
       "6363    6364  Borussia Moenchengladbach     Eintracht Braunschweig         10   \n",
       "...      ...                        ...                        ...        ...   \n",
       "9080    9081         1. FC Saarbruecken  Borussia Moenchengladbach          0   \n",
       "1324    1325               Hamburger SV              Karlsruher SC          0   \n",
       "4623    4624               Darmstadt 98                1. FC Koeln          0   \n",
       "9083    9084            1. FC Nuernberg            Bayern Muenchen          0   \n",
       "10079  10080               MSV Duisburg                 Schalke 04          0   \n",
       "\n",
       "       awayGoals  round  year                 date  \n",
       "4456           0     34  1977  1978-04-29 08:30:00  \n",
       "2455           1     16  1971  1971-11-27 08:30:00  \n",
       "5787           1     12  1982  1982-11-06 08:30:00  \n",
       "943            0     18  1966  1967-01-07 08:30:00  \n",
       "6363           0      8  1984  1984-10-11 14:00:00  \n",
       "...          ...    ...   ...                  ...  \n",
       "9080           4     30  1992  1993-05-08 08:30:00  \n",
       "1324           0     26  1967  1968-03-16 08:30:00  \n",
       "4623           1     19  1978  1979-02-17 08:30:00  \n",
       "9083           0     30  1992  1993-05-08 08:30:00  \n",
       "10079          1      5  1996  1996-09-07 08:30:00  \n",
       "\n",
       "[14018 rows x 8 columns]"
      ],
      "text/html": "<div>\n<style scoped>\n    .dataframe tbody tr th:only-of-type {\n        vertical-align: middle;\n    }\n\n    .dataframe tbody tr th {\n        vertical-align: top;\n    }\n\n    .dataframe thead th {\n        text-align: right;\n    }\n</style>\n<table border=\"1\" class=\"dataframe\">\n  <thead>\n    <tr style=\"text-align: right;\">\n      <th></th>\n      <th>index</th>\n      <th>homeTeam</th>\n      <th>awayTeam</th>\n      <th>homeGoals</th>\n      <th>awayGoals</th>\n      <th>round</th>\n      <th>year</th>\n      <th>date</th>\n    </tr>\n  </thead>\n  <tbody>\n    <tr>\n      <th>4456</th>\n      <td>4457</td>\n      <td>Borussia Moenchengladbach</td>\n      <td>Borussia Dortmund</td>\n      <td>12</td>\n      <td>0</td>\n      <td>34</td>\n      <td>1977</td>\n      <td>1978-04-29 08:30:00</td>\n    </tr>\n    <tr>\n      <th>2455</th>\n      <td>2456</td>\n      <td>Bayern Muenchen</td>\n      <td>Borussia Dortmund</td>\n      <td>11</td>\n      <td>1</td>\n      <td>16</td>\n      <td>1971</td>\n      <td>1971-11-27 08:30:00</td>\n    </tr>\n    <tr>\n      <th>5787</th>\n      <td>5788</td>\n      <td>Borussia Dortmund</td>\n      <td>Arminia Bielefeld</td>\n      <td>11</td>\n      <td>1</td>\n      <td>12</td>\n      <td>1982</td>\n      <td>1982-11-06 08:30:00</td>\n    </tr>\n    <tr>\n      <th>943</th>\n      <td>944</td>\n      <td>Borussia Moenchengladbach</td>\n      <td>Schalke 04</td>\n      <td>11</td>\n      <td>0</td>\n      <td>18</td>\n      <td>1966</td>\n      <td>1967-01-07 08:30:00</td>\n    </tr>\n    <tr>\n      <th>6363</th>\n      <td>6364</td>\n      <td>Borussia Moenchengladbach</td>\n      <td>Eintracht Braunschweig</td>\n      <td>10</td>\n      <td>0</td>\n      <td>8</td>\n      <td>1984</td>\n      <td>1984-10-11 14:00:00</td>\n    </tr>\n    <tr>\n      <th>...</th>\n      <td>...</td>\n      <td>...</td>\n      <td>...</td>\n      <td>...</td>\n      <td>...</td>\n      <td>...</td>\n      <td>...</td>\n      <td>...</td>\n    </tr>\n    <tr>\n      <th>9080</th>\n      <td>9081</td>\n      <td>1. FC Saarbruecken</td>\n      <td>Borussia Moenchengladbach</td>\n      <td>0</td>\n      <td>4</td>\n      <td>30</td>\n      <td>1992</td>\n      <td>1993-05-08 08:30:00</td>\n    </tr>\n    <tr>\n      <th>1324</th>\n      <td>1325</td>\n      <td>Hamburger SV</td>\n      <td>Karlsruher SC</td>\n      <td>0</td>\n      <td>0</td>\n      <td>26</td>\n      <td>1967</td>\n      <td>1968-03-16 08:30:00</td>\n    </tr>\n    <tr>\n      <th>4623</th>\n      <td>4624</td>\n      <td>Darmstadt 98</td>\n      <td>1. FC Koeln</td>\n      <td>0</td>\n      <td>1</td>\n      <td>19</td>\n      <td>1978</td>\n      <td>1979-02-17 08:30:00</td>\n    </tr>\n    <tr>\n      <th>9083</th>\n      <td>9084</td>\n      <td>1. FC Nuernberg</td>\n      <td>Bayern Muenchen</td>\n      <td>0</td>\n      <td>0</td>\n      <td>30</td>\n      <td>1992</td>\n      <td>1993-05-08 08:30:00</td>\n    </tr>\n    <tr>\n      <th>10079</th>\n      <td>10080</td>\n      <td>MSV Duisburg</td>\n      <td>Schalke 04</td>\n      <td>0</td>\n      <td>1</td>\n      <td>5</td>\n      <td>1996</td>\n      <td>1996-09-07 08:30:00</td>\n    </tr>\n  </tbody>\n</table>\n<p>14018 rows × 8 columns</p>\n</div>"
     },
     "metadata": {},
     "execution_count": 19
    }
   ],
   "source": [
    "# Ordenamos, en forma descendente, los goles como local 'homeGoals'\n",
    "df.sort_values(by = ['homeGoals'], ascending = False)"
   ]
  },
  {
   "cell_type": "code",
   "execution_count": 20,
   "metadata": {},
   "outputs": [
    {
     "output_type": "execute_result",
     "data": {
      "text/plain": [
       "       index                   homeTeam                   awayTeam  homeGoals  \\\n",
       "719      720            Tasmania Berlin             Meidericher SV          0   \n",
       "739      740       Borussia Neunkirchen          TSV 1860 Muenchen          1   \n",
       "11180  11181                    SSV Ulm           Bayer Leverkusen          1   \n",
       "10734  10735  Borussia Moenchengladbach           Bayer Leverkusen          2   \n",
       "4127    4128            Rot-Weiss Essen        Eintracht Frankfurt          1   \n",
       "...      ...                        ...                        ...        ...   \n",
       "10146  10147          Borussia Dortmund          Arminia Bielefeld          5   \n",
       "6200    6201  Borussia Moenchengladbach              VfB Stuttgart          2   \n",
       "10143  10144              VfB Stuttgart  Borussia Moenchengladbach          5   \n",
       "10142  10143               Hamburger SV              Karlsruher SC          2   \n",
       "8932    8933               Hamburger SV            Bayer Uerdingen          3   \n",
       "\n",
       "       awayGoals  round  year                 date  \n",
       "719            9     27  1965  1966-03-26 08:30:00  \n",
       "739            9     29  1965  1966-04-16 08:30:00  \n",
       "11180          9     25  1999  2000-03-18 08:30:00  \n",
       "10734          8     10  1998  1998-10-30 13:00:00  \n",
       "4127           8     32  1976  1977-05-07 09:30:00  \n",
       "...          ...    ...   ...                  ...  \n",
       "10146          0     12  1996  1996-10-26 08:30:00  \n",
       "6200           0     24  1983  1984-03-10 08:30:00  \n",
       "10143          0     12  1996  1996-10-26 08:30:00  \n",
       "10142          0     12  1996  1996-10-26 08:30:00  \n",
       "8932           0     13  1992  1992-11-14 08:30:00  \n",
       "\n",
       "[14018 rows x 8 columns]"
      ],
      "text/html": "<div>\n<style scoped>\n    .dataframe tbody tr th:only-of-type {\n        vertical-align: middle;\n    }\n\n    .dataframe tbody tr th {\n        vertical-align: top;\n    }\n\n    .dataframe thead th {\n        text-align: right;\n    }\n</style>\n<table border=\"1\" class=\"dataframe\">\n  <thead>\n    <tr style=\"text-align: right;\">\n      <th></th>\n      <th>index</th>\n      <th>homeTeam</th>\n      <th>awayTeam</th>\n      <th>homeGoals</th>\n      <th>awayGoals</th>\n      <th>round</th>\n      <th>year</th>\n      <th>date</th>\n    </tr>\n  </thead>\n  <tbody>\n    <tr>\n      <th>719</th>\n      <td>720</td>\n      <td>Tasmania Berlin</td>\n      <td>Meidericher SV</td>\n      <td>0</td>\n      <td>9</td>\n      <td>27</td>\n      <td>1965</td>\n      <td>1966-03-26 08:30:00</td>\n    </tr>\n    <tr>\n      <th>739</th>\n      <td>740</td>\n      <td>Borussia Neunkirchen</td>\n      <td>TSV 1860 Muenchen</td>\n      <td>1</td>\n      <td>9</td>\n      <td>29</td>\n      <td>1965</td>\n      <td>1966-04-16 08:30:00</td>\n    </tr>\n    <tr>\n      <th>11180</th>\n      <td>11181</td>\n      <td>SSV Ulm</td>\n      <td>Bayer Leverkusen</td>\n      <td>1</td>\n      <td>9</td>\n      <td>25</td>\n      <td>1999</td>\n      <td>2000-03-18 08:30:00</td>\n    </tr>\n    <tr>\n      <th>10734</th>\n      <td>10735</td>\n      <td>Borussia Moenchengladbach</td>\n      <td>Bayer Leverkusen</td>\n      <td>2</td>\n      <td>8</td>\n      <td>10</td>\n      <td>1998</td>\n      <td>1998-10-30 13:00:00</td>\n    </tr>\n    <tr>\n      <th>4127</th>\n      <td>4128</td>\n      <td>Rot-Weiss Essen</td>\n      <td>Eintracht Frankfurt</td>\n      <td>1</td>\n      <td>8</td>\n      <td>32</td>\n      <td>1976</td>\n      <td>1977-05-07 09:30:00</td>\n    </tr>\n    <tr>\n      <th>...</th>\n      <td>...</td>\n      <td>...</td>\n      <td>...</td>\n      <td>...</td>\n      <td>...</td>\n      <td>...</td>\n      <td>...</td>\n      <td>...</td>\n    </tr>\n    <tr>\n      <th>10146</th>\n      <td>10147</td>\n      <td>Borussia Dortmund</td>\n      <td>Arminia Bielefeld</td>\n      <td>5</td>\n      <td>0</td>\n      <td>12</td>\n      <td>1996</td>\n      <td>1996-10-26 08:30:00</td>\n    </tr>\n    <tr>\n      <th>6200</th>\n      <td>6201</td>\n      <td>Borussia Moenchengladbach</td>\n      <td>VfB Stuttgart</td>\n      <td>2</td>\n      <td>0</td>\n      <td>24</td>\n      <td>1983</td>\n      <td>1984-03-10 08:30:00</td>\n    </tr>\n    <tr>\n      <th>10143</th>\n      <td>10144</td>\n      <td>VfB Stuttgart</td>\n      <td>Borussia Moenchengladbach</td>\n      <td>5</td>\n      <td>0</td>\n      <td>12</td>\n      <td>1996</td>\n      <td>1996-10-26 08:30:00</td>\n    </tr>\n    <tr>\n      <th>10142</th>\n      <td>10143</td>\n      <td>Hamburger SV</td>\n      <td>Karlsruher SC</td>\n      <td>2</td>\n      <td>0</td>\n      <td>12</td>\n      <td>1996</td>\n      <td>1996-10-26 08:30:00</td>\n    </tr>\n    <tr>\n      <th>8932</th>\n      <td>8933</td>\n      <td>Hamburger SV</td>\n      <td>Bayer Uerdingen</td>\n      <td>3</td>\n      <td>0</td>\n      <td>13</td>\n      <td>1992</td>\n      <td>1992-11-14 08:30:00</td>\n    </tr>\n  </tbody>\n</table>\n<p>14018 rows × 8 columns</p>\n</div>"
     },
     "metadata": {},
     "execution_count": 20
    }
   ],
   "source": [
    "# Ordenamos, en forma descendente, los goles como visitante 'awayGoals'\n",
    "df.sort_values(by = ['awayGoals'], ascending = False)"
   ]
  },
  {
   "cell_type": "code",
   "execution_count": 21,
   "id": "atlantic-membrane",
   "metadata": {},
   "outputs": [
    {
     "output_type": "execute_result",
     "data": {
      "text/plain": [
       "52"
      ]
     },
     "metadata": {},
     "execution_count": 21
    }
   ],
   "source": [
    "# ¿Cuántos equipos componen la Bundesliga?\n",
    "len(df['homeTeam'].unique())"
   ]
  },
  {
   "cell_type": "code",
   "execution_count": 22,
   "id": "fossil-modern",
   "metadata": {},
   "outputs": [
    {
     "output_type": "execute_result",
     "data": {
      "text/plain": [
       "array(['Werder Bremen', 'Borussia Dortmund', 'Hertha BSC Berlin',\n",
       "       '1. FC Nuernberg', 'Preussen Muenster', 'Hamburger SV',\n",
       "       'Eintracht Frankfurt', '1. FC Kaiserslautern', 'Karlsruher SC',\n",
       "       'Meidericher SV', '1. FC Saarbruecken', '1. FC Koeln',\n",
       "       'TSV 1860 Muenchen', 'Eintracht Braunschweig', 'Schalke 04',\n",
       "       'VfB Stuttgart', 'Borussia Neunkirchen', 'Hannover 96',\n",
       "       'Tasmania Berlin', 'Borussia Moenchengladbach', 'Bayern Muenchen',\n",
       "       'Fortuna Duesseldorf', 'MSV Duisburg', 'Rot-Weiss Essen',\n",
       "       'Alemannia Aachen', 'Kickers Offenbach', 'Rot-Weiss Oberhausen',\n",
       "       'Arminia Bielefeld', 'VfL Bochum', 'Wuppertaler SV',\n",
       "       'Fortuna Koeln', 'Tennis Borussia Berlin', 'Bayer Uerdingen',\n",
       "       'FC St. Pauli', 'Darmstadt 98', 'Bayer Leverkusen',\n",
       "       'Waldhof Mannheim', 'FC Homburg', 'Blau-Weiss 90 Berlin',\n",
       "       'Stuttgarter Kickers', 'Wattenscheid 09', 'Dynamo Dresden',\n",
       "       'Hansa Rostock', 'SC Freiburg', 'VfB Leipzig', 'KFC Uerdingen',\n",
       "       'VfL Wolfsburg', 'SpVgg Unterhaching', 'SSV Ulm',\n",
       "       'Energie Cottbus', '1. FSV Mainz 05', '1899 Hoffenheim'],\n",
       "      dtype=object)"
      ]
     },
     "metadata": {},
     "execution_count": 22
    }
   ],
   "source": [
    "# ¿Cuáles son los equipos que componen la Bundesliga?\n",
    "pd.unique(df[['homeTeam', 'awayTeam']].values.ravel())"
   ]
  },
  {
   "cell_type": "code",
   "execution_count": 23,
   "metadata": {},
   "outputs": [
    {
     "output_type": "execute_result",
     "data": {
      "text/plain": [
       "array(['Werder Bremen', 'Hertha BSC Berlin', 'Preussen Muenster',\n",
       "       'Eintracht Frankfurt', 'Karlsruher SC', '1. FC Saarbruecken',\n",
       "       'TSV 1860 Muenchen', 'Schalke 04', 'Borussia Dortmund',\n",
       "       '1. FC Nuernberg', 'Hamburger SV', '1. FC Kaiserslautern',\n",
       "       'Meidericher SV', '1. FC Koeln', 'Eintracht Braunschweig',\n",
       "       'VfB Stuttgart', 'Borussia Neunkirchen', 'Hannover 96',\n",
       "       'Tasmania Berlin', 'Bayern Muenchen', 'Borussia Moenchengladbach',\n",
       "       'MSV Duisburg', 'Rot-Weiss Essen', 'Fortuna Duesseldorf',\n",
       "       'Alemannia Aachen', 'Kickers Offenbach', 'Rot-Weiss Oberhausen',\n",
       "       'Arminia Bielefeld', 'VfL Bochum', 'Wuppertaler SV',\n",
       "       'Fortuna Koeln', 'Tennis Borussia Berlin', 'Bayer Uerdingen',\n",
       "       'FC St. Pauli', 'Darmstadt 98', 'Bayer Leverkusen',\n",
       "       'Waldhof Mannheim', 'FC Homburg', 'Blau-Weiss 90 Berlin',\n",
       "       'Stuttgarter Kickers', 'Wattenscheid 09', 'Dynamo Dresden',\n",
       "       'Hansa Rostock', 'VfB Leipzig', 'SC Freiburg', 'KFC Uerdingen',\n",
       "       'VfL Wolfsburg', 'SSV Ulm', 'SpVgg Unterhaching',\n",
       "       'Energie Cottbus', '1. FSV Mainz 05', '1899 Hoffenheim'],\n",
       "      dtype=object)"
      ]
     },
     "metadata": {},
     "execution_count": 23
    }
   ],
   "source": [
    "# ¿Cuáles son los equipos que componen la Bundesliga?\n",
    "df.homeTeam.unique()"
   ]
  },
  {
   "cell_type": "code",
   "execution_count": 41,
   "id": "bibliographic-employer",
   "metadata": {},
   "outputs": [
    {
     "output_type": "execute_result",
     "data": {
      "text/plain": [
       "homeGoals  awayGoals\n",
       "1          1            1632\n",
       "2          1            1203\n",
       "1          0            1109\n",
       "2          0            1092\n",
       "0          0             914\n",
       "dtype: int64"
      ]
     },
     "metadata": {},
     "execution_count": 41
    }
   ],
   "source": [
    "# ¿Cuáles son los marcadores más comunes durante toda la Bundesliga?\n",
    "# Mostramos los goles como local, como visitante y el número de veces.\n",
    "df.groupby(['homeGoals','awayGoals']).size().sort_values(ascending = False).head()"
   ]
  },
  {
   "cell_type": "code",
   "execution_count": 68,
   "metadata": {},
   "outputs": [
    {
     "output_type": "execute_result",
     "data": {
      "text/plain": [
       "           index                   homeTeam              awayTeam homeGoals  \\\n",
       "0              1              Werder Bremen     Borussia Dortmund         1   \n",
       "1              2          Hertha BSC Berlin       1. FC Nuernberg         1   \n",
       "2              3          Preussen Muenster          Hamburger SV         1   \n",
       "3              4        Eintracht Frankfurt  1. FC Kaiserslautern         1   \n",
       "4              5              Karlsruher SC        Meidericher SV         1   \n",
       "...          ...                        ...                   ...       ...   \n",
       "14014       True                       True                  True      True   \n",
       "14015      14016                1. FC Koeln            VfL Bochum         1   \n",
       "14016      14017  Borussia Moenchengladbach     Borussia Dortmund         1   \n",
       "14017      14018                 Schalke 04       1899 Hoffenheim         1   \n",
       "homeGoals      1                          1                     1         1   \n",
       "\n",
       "          awayGoals round  year                 date veces  \n",
       "0                 2     1  1963  1963-08-24 09:30:00   NaN  \n",
       "1                 1     1  1963  1963-08-24 09:30:00   NaN  \n",
       "2                 1     1  1963  1963-08-24 09:30:00   NaN  \n",
       "3                 1     1  1963  1963-08-24 09:30:00   NaN  \n",
       "4                 4     1  1963  1963-08-24 09:30:00   NaN  \n",
       "...             ...   ...   ...                  ...   ...  \n",
       "14014          True  True  True                 True  True  \n",
       "14015             1    34  2008  2009-05-23 08:30:00   NaN  \n",
       "14016             1    34  2008  2009-05-23 08:30:00   NaN  \n",
       "14017             3    34  2008  2009-05-23 08:30:00   NaN  \n",
       "homeGoals         1     1     1                    1   1.0  \n",
       "\n",
       "[14019 rows x 9 columns]"
      ],
      "text/html": "<div>\n<style scoped>\n    .dataframe tbody tr th:only-of-type {\n        vertical-align: middle;\n    }\n\n    .dataframe tbody tr th {\n        vertical-align: top;\n    }\n\n    .dataframe thead th {\n        text-align: right;\n    }\n</style>\n<table border=\"1\" class=\"dataframe\">\n  <thead>\n    <tr style=\"text-align: right;\">\n      <th></th>\n      <th>index</th>\n      <th>homeTeam</th>\n      <th>awayTeam</th>\n      <th>homeGoals</th>\n      <th>awayGoals</th>\n      <th>round</th>\n      <th>year</th>\n      <th>date</th>\n      <th>veces</th>\n    </tr>\n  </thead>\n  <tbody>\n    <tr>\n      <th>0</th>\n      <td>1</td>\n      <td>Werder Bremen</td>\n      <td>Borussia Dortmund</td>\n      <td>1</td>\n      <td>2</td>\n      <td>1</td>\n      <td>1963</td>\n      <td>1963-08-24 09:30:00</td>\n      <td>NaN</td>\n    </tr>\n    <tr>\n      <th>1</th>\n      <td>2</td>\n      <td>Hertha BSC Berlin</td>\n      <td>1. FC Nuernberg</td>\n      <td>1</td>\n      <td>1</td>\n      <td>1</td>\n      <td>1963</td>\n      <td>1963-08-24 09:30:00</td>\n      <td>NaN</td>\n    </tr>\n    <tr>\n      <th>2</th>\n      <td>3</td>\n      <td>Preussen Muenster</td>\n      <td>Hamburger SV</td>\n      <td>1</td>\n      <td>1</td>\n      <td>1</td>\n      <td>1963</td>\n      <td>1963-08-24 09:30:00</td>\n      <td>NaN</td>\n    </tr>\n    <tr>\n      <th>3</th>\n      <td>4</td>\n      <td>Eintracht Frankfurt</td>\n      <td>1. FC Kaiserslautern</td>\n      <td>1</td>\n      <td>1</td>\n      <td>1</td>\n      <td>1963</td>\n      <td>1963-08-24 09:30:00</td>\n      <td>NaN</td>\n    </tr>\n    <tr>\n      <th>4</th>\n      <td>5</td>\n      <td>Karlsruher SC</td>\n      <td>Meidericher SV</td>\n      <td>1</td>\n      <td>4</td>\n      <td>1</td>\n      <td>1963</td>\n      <td>1963-08-24 09:30:00</td>\n      <td>NaN</td>\n    </tr>\n    <tr>\n      <th>...</th>\n      <td>...</td>\n      <td>...</td>\n      <td>...</td>\n      <td>...</td>\n      <td>...</td>\n      <td>...</td>\n      <td>...</td>\n      <td>...</td>\n      <td>...</td>\n    </tr>\n    <tr>\n      <th>14014</th>\n      <td>True</td>\n      <td>True</td>\n      <td>True</td>\n      <td>True</td>\n      <td>True</td>\n      <td>True</td>\n      <td>True</td>\n      <td>True</td>\n      <td>True</td>\n    </tr>\n    <tr>\n      <th>14015</th>\n      <td>14016</td>\n      <td>1. FC Koeln</td>\n      <td>VfL Bochum</td>\n      <td>1</td>\n      <td>1</td>\n      <td>34</td>\n      <td>2008</td>\n      <td>2009-05-23 08:30:00</td>\n      <td>NaN</td>\n    </tr>\n    <tr>\n      <th>14016</th>\n      <td>14017</td>\n      <td>Borussia Moenchengladbach</td>\n      <td>Borussia Dortmund</td>\n      <td>1</td>\n      <td>1</td>\n      <td>34</td>\n      <td>2008</td>\n      <td>2009-05-23 08:30:00</td>\n      <td>NaN</td>\n    </tr>\n    <tr>\n      <th>14017</th>\n      <td>14018</td>\n      <td>Schalke 04</td>\n      <td>1899 Hoffenheim</td>\n      <td>1</td>\n      <td>3</td>\n      <td>34</td>\n      <td>2008</td>\n      <td>2009-05-23 08:30:00</td>\n      <td>NaN</td>\n    </tr>\n    <tr>\n      <th>homeGoals</th>\n      <td>1</td>\n      <td>1</td>\n      <td>1</td>\n      <td>1</td>\n      <td>1</td>\n      <td>1</td>\n      <td>1</td>\n      <td>1</td>\n      <td>1.0</td>\n    </tr>\n  </tbody>\n</table>\n<p>14019 rows × 9 columns</p>\n</div>"
     },
     "metadata": {},
     "execution_count": 68
    }
   ],
   "source": [
    "df.loc[df['homeGoals'] > df['awayGoals']]"
   ]
  },
  {
   "cell_type": "code",
   "execution_count": 40,
   "id": "acute-gross",
   "metadata": {},
   "outputs": [
    {
     "output_type": "execute_result",
     "data": {
      "text/plain": [
       "      index                   homeTeam                awayTeam  homeGoals  \\\n",
       "4456   4457  Borussia Moenchengladbach       Borussia Dortmund         12   \n",
       "2455   2456            Bayern Muenchen       Borussia Dortmund         11   \n",
       "5787   5788          Borussia Dortmund       Arminia Bielefeld         11   \n",
       "943     944  Borussia Moenchengladbach              Schalke 04         11   \n",
       "6363   6364  Borussia Moenchengladbach  Eintracht Braunschweig         10   \n",
       "1197   1198  Borussia Moenchengladbach    Borussia Neunkirchen         10   \n",
       "3295   3296        Eintracht Frankfurt         Rot-Weiss Essen          9   \n",
       "383     384          TSV 1860 Muenchen           Karlsruher SC          9   \n",
       "80       81          Borussia Dortmund    1. FC Kaiserslautern          9   \n",
       "6176   6177            Bayern Muenchen       Kickers Offenbach          9   \n",
       "3883   3884            Bayern Muenchen  Tennis Borussia Berlin          9   \n",
       "182     183          TSV 1860 Muenchen            Hamburger SV          9   \n",
       "1988   1989          Hertha BSC Berlin       Borussia Dortmund          9   \n",
       "5499   5500        Eintracht Frankfurt           Werder Bremen          9   \n",
       "1806   1807                1. FC Koeln              Schalke 04          8   \n",
       "\n",
       "      awayGoals  round  year                 date  \n",
       "4456          0     34  1977  1978-04-29 08:30:00  \n",
       "2455          1     16  1971  1971-11-27 08:30:00  \n",
       "5787          1     12  1982  1982-11-06 08:30:00  \n",
       "943           0     18  1966  1967-01-07 08:30:00  \n",
       "6363          0      8  1984  1984-10-11 14:00:00  \n",
       "1197          0     12  1967  1967-11-04 08:30:00  \n",
       "3295          1      7  1974  1974-10-05 09:30:00  \n",
       "383           0     18  1964  1965-02-27 08:30:00  \n",
       "80            3     11  1963  1963-11-16 08:30:00  \n",
       "6176          0     21  1983  1984-03-13 13:00:00  \n",
       "3883          0      5  1976  1976-09-10 13:30:00  \n",
       "182           2     23  1963  1964-03-07 08:30:00  \n",
       "1988          1     32  1969  1970-04-18 08:30:00  \n",
       "5499          2     14  1981  1981-11-14 08:30:00  \n",
       "1806          0     12  1969  1969-11-08 08:30:00  "
      ],
      "text/html": "<div>\n<style scoped>\n    .dataframe tbody tr th:only-of-type {\n        vertical-align: middle;\n    }\n\n    .dataframe tbody tr th {\n        vertical-align: top;\n    }\n\n    .dataframe thead th {\n        text-align: right;\n    }\n</style>\n<table border=\"1\" class=\"dataframe\">\n  <thead>\n    <tr style=\"text-align: right;\">\n      <th></th>\n      <th>index</th>\n      <th>homeTeam</th>\n      <th>awayTeam</th>\n      <th>homeGoals</th>\n      <th>awayGoals</th>\n      <th>round</th>\n      <th>year</th>\n      <th>date</th>\n    </tr>\n  </thead>\n  <tbody>\n    <tr>\n      <th>4456</th>\n      <td>4457</td>\n      <td>Borussia Moenchengladbach</td>\n      <td>Borussia Dortmund</td>\n      <td>12</td>\n      <td>0</td>\n      <td>34</td>\n      <td>1977</td>\n      <td>1978-04-29 08:30:00</td>\n    </tr>\n    <tr>\n      <th>2455</th>\n      <td>2456</td>\n      <td>Bayern Muenchen</td>\n      <td>Borussia Dortmund</td>\n      <td>11</td>\n      <td>1</td>\n      <td>16</td>\n      <td>1971</td>\n      <td>1971-11-27 08:30:00</td>\n    </tr>\n    <tr>\n      <th>5787</th>\n      <td>5788</td>\n      <td>Borussia Dortmund</td>\n      <td>Arminia Bielefeld</td>\n      <td>11</td>\n      <td>1</td>\n      <td>12</td>\n      <td>1982</td>\n      <td>1982-11-06 08:30:00</td>\n    </tr>\n    <tr>\n      <th>943</th>\n      <td>944</td>\n      <td>Borussia Moenchengladbach</td>\n      <td>Schalke 04</td>\n      <td>11</td>\n      <td>0</td>\n      <td>18</td>\n      <td>1966</td>\n      <td>1967-01-07 08:30:00</td>\n    </tr>\n    <tr>\n      <th>6363</th>\n      <td>6364</td>\n      <td>Borussia Moenchengladbach</td>\n      <td>Eintracht Braunschweig</td>\n      <td>10</td>\n      <td>0</td>\n      <td>8</td>\n      <td>1984</td>\n      <td>1984-10-11 14:00:00</td>\n    </tr>\n    <tr>\n      <th>1197</th>\n      <td>1198</td>\n      <td>Borussia Moenchengladbach</td>\n      <td>Borussia Neunkirchen</td>\n      <td>10</td>\n      <td>0</td>\n      <td>12</td>\n      <td>1967</td>\n      <td>1967-11-04 08:30:00</td>\n    </tr>\n    <tr>\n      <th>3295</th>\n      <td>3296</td>\n      <td>Eintracht Frankfurt</td>\n      <td>Rot-Weiss Essen</td>\n      <td>9</td>\n      <td>1</td>\n      <td>7</td>\n      <td>1974</td>\n      <td>1974-10-05 09:30:00</td>\n    </tr>\n    <tr>\n      <th>383</th>\n      <td>384</td>\n      <td>TSV 1860 Muenchen</td>\n      <td>Karlsruher SC</td>\n      <td>9</td>\n      <td>0</td>\n      <td>18</td>\n      <td>1964</td>\n      <td>1965-02-27 08:30:00</td>\n    </tr>\n    <tr>\n      <th>80</th>\n      <td>81</td>\n      <td>Borussia Dortmund</td>\n      <td>1. FC Kaiserslautern</td>\n      <td>9</td>\n      <td>3</td>\n      <td>11</td>\n      <td>1963</td>\n      <td>1963-11-16 08:30:00</td>\n    </tr>\n    <tr>\n      <th>6176</th>\n      <td>6177</td>\n      <td>Bayern Muenchen</td>\n      <td>Kickers Offenbach</td>\n      <td>9</td>\n      <td>0</td>\n      <td>21</td>\n      <td>1983</td>\n      <td>1984-03-13 13:00:00</td>\n    </tr>\n    <tr>\n      <th>3883</th>\n      <td>3884</td>\n      <td>Bayern Muenchen</td>\n      <td>Tennis Borussia Berlin</td>\n      <td>9</td>\n      <td>0</td>\n      <td>5</td>\n      <td>1976</td>\n      <td>1976-09-10 13:30:00</td>\n    </tr>\n    <tr>\n      <th>182</th>\n      <td>183</td>\n      <td>TSV 1860 Muenchen</td>\n      <td>Hamburger SV</td>\n      <td>9</td>\n      <td>2</td>\n      <td>23</td>\n      <td>1963</td>\n      <td>1964-03-07 08:30:00</td>\n    </tr>\n    <tr>\n      <th>1988</th>\n      <td>1989</td>\n      <td>Hertha BSC Berlin</td>\n      <td>Borussia Dortmund</td>\n      <td>9</td>\n      <td>1</td>\n      <td>32</td>\n      <td>1969</td>\n      <td>1970-04-18 08:30:00</td>\n    </tr>\n    <tr>\n      <th>5499</th>\n      <td>5500</td>\n      <td>Eintracht Frankfurt</td>\n      <td>Werder Bremen</td>\n      <td>9</td>\n      <td>2</td>\n      <td>14</td>\n      <td>1981</td>\n      <td>1981-11-14 08:30:00</td>\n    </tr>\n    <tr>\n      <th>1806</th>\n      <td>1807</td>\n      <td>1. FC Koeln</td>\n      <td>Schalke 04</td>\n      <td>8</td>\n      <td>0</td>\n      <td>12</td>\n      <td>1969</td>\n      <td>1969-11-08 08:30:00</td>\n    </tr>\n  </tbody>\n</table>\n</div>"
     },
     "metadata": {},
     "execution_count": 40
    }
   ],
   "source": [
    "# ¿cuáles son los 15 equipos que como local, han vencido a los visitantes?\n",
    "\n",
    "df.sort_values(by='homeGoals', ascending=False).head(15)"
   ]
  },
  {
   "cell_type": "code",
   "execution_count": 75,
   "id": "perfect-system",
   "metadata": {},
   "outputs": [
    {
     "output_type": "execute_result",
     "data": {
      "text/plain": [
       "                  homeTeam              awayTeam  count\n",
       "0                     True                  True   4478\n",
       "1     1. FC Kaiserslautern           1. FC Koeln     27\n",
       "2     1. FC Kaiserslautern       1. FC Nuernberg     18\n",
       "3     1. FC Kaiserslautern    1. FC Saarbruecken      4\n",
       "4     1. FC Kaiserslautern       1. FSV Mainz 05      1\n",
       "...                    ...                   ...    ...\n",
       "1497        Wuppertaler SV  Rot-Weiss Oberhausen      1\n",
       "1498        Wuppertaler SV            Schalke 04      3\n",
       "1499        Wuppertaler SV         VfB Stuttgart      2\n",
       "1500        Wuppertaler SV            VfL Bochum      1\n",
       "1501        Wuppertaler SV         Werder Bremen      3\n",
       "\n",
       "[1502 rows x 3 columns]"
      ],
      "text/html": "<div>\n<style scoped>\n    .dataframe tbody tr th:only-of-type {\n        vertical-align: middle;\n    }\n\n    .dataframe tbody tr th {\n        vertical-align: top;\n    }\n\n    .dataframe thead th {\n        text-align: right;\n    }\n</style>\n<table border=\"1\" class=\"dataframe\">\n  <thead>\n    <tr style=\"text-align: right;\">\n      <th></th>\n      <th>homeTeam</th>\n      <th>awayTeam</th>\n      <th>count</th>\n    </tr>\n  </thead>\n  <tbody>\n    <tr>\n      <th>0</th>\n      <td>True</td>\n      <td>True</td>\n      <td>4478</td>\n    </tr>\n    <tr>\n      <th>1</th>\n      <td>1. FC Kaiserslautern</td>\n      <td>1. FC Koeln</td>\n      <td>27</td>\n    </tr>\n    <tr>\n      <th>2</th>\n      <td>1. FC Kaiserslautern</td>\n      <td>1. FC Nuernberg</td>\n      <td>18</td>\n    </tr>\n    <tr>\n      <th>3</th>\n      <td>1. FC Kaiserslautern</td>\n      <td>1. FC Saarbruecken</td>\n      <td>4</td>\n    </tr>\n    <tr>\n      <th>4</th>\n      <td>1. FC Kaiserslautern</td>\n      <td>1. FSV Mainz 05</td>\n      <td>1</td>\n    </tr>\n    <tr>\n      <th>...</th>\n      <td>...</td>\n      <td>...</td>\n      <td>...</td>\n    </tr>\n    <tr>\n      <th>1497</th>\n      <td>Wuppertaler SV</td>\n      <td>Rot-Weiss Oberhausen</td>\n      <td>1</td>\n    </tr>\n    <tr>\n      <th>1498</th>\n      <td>Wuppertaler SV</td>\n      <td>Schalke 04</td>\n      <td>3</td>\n    </tr>\n    <tr>\n      <th>1499</th>\n      <td>Wuppertaler SV</td>\n      <td>VfB Stuttgart</td>\n      <td>2</td>\n    </tr>\n    <tr>\n      <th>1500</th>\n      <td>Wuppertaler SV</td>\n      <td>VfL Bochum</td>\n      <td>1</td>\n    </tr>\n    <tr>\n      <th>1501</th>\n      <td>Wuppertaler SV</td>\n      <td>Werder Bremen</td>\n      <td>3</td>\n    </tr>\n  </tbody>\n</table>\n<p>1502 rows × 3 columns</p>\n</div>"
     },
     "metadata": {},
     "execution_count": 75
    }
   ],
   "source": [
    "df.groupby(['homeTeam','awayTeam']).size().reset_index().rename(columns={0:'count'})"
   ]
  },
  {
   "cell_type": "code",
   "execution_count": null,
   "id": "exceptional-beijing",
   "metadata": {},
   "outputs": [],
   "source": []
  }
 ],
 "metadata": {
  "kernelspec": {
   "display_name": "Python 3",
   "language": "python",
   "name": "python3"
  },
  "language_info": {
   "codemirror_mode": {
    "name": "ipython",
    "version": 3
   },
   "file_extension": ".py",
   "mimetype": "text/x-python",
   "name": "python",
   "nbconvert_exporter": "python",
   "pygments_lexer": "ipython3",
   "version": "3.8.6-final"
  }
 },
 "nbformat": 4,
 "nbformat_minor": 5
}